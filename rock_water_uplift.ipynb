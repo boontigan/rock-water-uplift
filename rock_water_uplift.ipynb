{
 "cells": [
  {
   "cell_type": "markdown",
   "id": "a1ff1471-ae51-4f3e-8333-17e8150bd356",
   "metadata": {},
   "source": [
    "# Rock-Uplift-Water"
   ]
  },
  {
   "cell_type": "code",
   "execution_count": 1,
   "id": "404ef55e-bbf8-4056-88fa-0e1ef4031566",
   "metadata": {},
   "outputs": [],
   "source": [
    "import landlab\n"
   ]
  },
  {
   "cell_type": "code",
   "execution_count": null,
   "id": "28a9a222-4fa8-414c-a0a3-2372647246e9",
   "metadata": {},
   "outputs": [],
   "source": [
    "#Uplift Component"
   ]
  }
 ],
 "metadata": {
  "kernelspec": {
   "display_name": "Ivy",
   "language": "python",
   "name": "ivy"
  },
  "language_info": {
   "codemirror_mode": {
    "name": "ipython",
    "version": 3
   },
   "file_extension": ".py",
   "mimetype": "text/x-python",
   "name": "python",
   "nbconvert_exporter": "python",
   "pygments_lexer": "ipython3",
   "version": "3.9.12"
  }
 },
 "nbformat": 4,
 "nbformat_minor": 5
}
